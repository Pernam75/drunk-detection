{
 "cells": [
  {
   "cell_type": "code",
   "execution_count": 1,
   "source": [
    "import os\r\n",
    "import tqdm"
   ],
   "outputs": [],
   "metadata": {}
  },
  {
   "cell_type": "code",
   "execution_count": 2,
   "source": [
    "curr=os.getcwd()\r\n",
    "audio_dir=curr+'/audio_data'# path to wav or mp3 audio files \r\n",
    "audio_list=os.listdir(audio_dir)"
   ],
   "outputs": [],
   "metadata": {}
  },
  {
   "cell_type": "markdown",
   "source": [
    "## # openSMILE feature Extraction\r\n",
    "Input- audio files \\\r\n",
    "Output- csv files"
   ],
   "metadata": {}
  },
  {
   "cell_type": "code",
   "execution_count": 3,
   "source": [
    "#!/usr/bin/env python\r\n",
    "for i in tqdm.tqdm(audio_list):\r\n",
    "    input_path=audio_dir+'/'+i\r\n",
    "    output_path=curr+'/opensmile_feat/'+i[:-4]+'.csv'# PATH to store csv files\r\n",
    "    command=\"SMILExtract -C config/IS10_paraling.conf -I '\"+input_path+\"' -O '\"+output_path+\"'\"\r\n",
    "    os.system(command)"
   ],
   "outputs": [
    {
     "output_type": "stream",
     "name": "stderr",
     "text": [
      "100%|██████████| 3628/3628 [55:43<00:00,  1.14it/s]  \n"
     ]
    }
   ],
   "metadata": {}
  },
  {
   "cell_type": "markdown",
   "source": [
    "## Numpy conversion\r\n",
    "Input- csv files \\\r\n",
    "Output- .npy files"
   ],
   "metadata": {}
  },
  {
   "cell_type": "code",
   "execution_count": null,
   "source": [
    "curr=os.getcwd()\r\n",
    "in_path=curr+'/opensmile_feat'\r\n",
    "out_path=curr+'/opensmile'\r\n",
    "in_list=os.listdir(in_path)\r\n",
    "print(len(in_list))"
   ],
   "outputs": [],
   "metadata": {}
  },
  {
   "cell_type": "code",
   "execution_count": null,
   "source": [
    "for csv_name in tqdm.tqdm(in_list):\r\n",
    "    out_name=csv_name[:-4]+'.npy'\r\n",
    "    feat=None\r\n",
    "    if not os.path.isfile(out_path+'/'+out_name+'.npy'):\r\n",
    "        with open(in_path+'/'+csv_name) as csvfile:\r\n",
    "            csv_reader=csv.reader(csvfile,delimiter=',')\r\n",
    "            count=1\r\n",
    "            for row in csv_reader:\r\n",
    "                if count==1590:\r\n",
    "                    feat=row[1:]\r\n",
    "                    feat=feat[:-1]\r\n",
    "                count+=1\r\n",
    "        np_array=np.zeros((1582))\r\n",
    "        for i in range(1582):\r\n",
    "            np_array[i]=float(feat[i])\r\n",
    "        \r\n",
    "        np.save(os.path.join(out_path, out_name),np_array)\r\n",
    "    "
   ],
   "outputs": [],
   "metadata": {}
  }
 ],
 "metadata": {
  "kernelspec": {
   "display_name": "Python 3",
   "language": "python",
   "name": "python3"
  },
  "language_info": {
   "codemirror_mode": {
    "name": "ipython",
    "version": 3
   },
   "file_extension": ".py",
   "mimetype": "text/x-python",
   "name": "python",
   "nbconvert_exporter": "python",
   "pygments_lexer": "ipython3",
   "version": "3.6.8"
  }
 },
 "nbformat": 4,
 "nbformat_minor": 2
}