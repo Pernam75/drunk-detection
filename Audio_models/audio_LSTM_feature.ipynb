{
 "cells": [
  {
   "cell_type": "code",
   "execution_count": 1,
   "source": [
    "from moviepy.editor import AudioFileClip\r\n",
    "import os\r\n",
    "import tqdm\r\n",
    "from collections import Counter\r\n",
    "from decimal import *\r\n",
    "import csv\r\n",
    "import numpy as np"
   ],
   "outputs": [],
   "metadata": {}
  },
  {
   "cell_type": "code",
   "execution_count": 2,
   "source": [
    "curr=os.getcwd()\r\n",
    "audio_dir=curr+'/audio_data'# path to wav or mp3 audio files\r\n",
    "audio_list=os.listdir(audio_dir)"
   ],
   "outputs": [],
   "metadata": {}
  },
  {
   "cell_type": "code",
   "execution_count": 14,
   "source": [
    "\r\n",
    "frame_list=[]\r\n",
    "time_list=[]\r\n",
    "fps_list=[]\r\n",
    "for i in tqdm.tqdm(audio_list):\r\n",
    "    input_path=audio_dir+'/'+i\r\n",
    "    audioclip = AudioFileClip(input_path)\r\n",
    "    frame_list.append(audioclip.duration*audioclip.fps)\r\n",
    "    fps_list.append(audioclip.fps)\r\n",
    "    time_list.append(audioclip.duration)\r\n",
    "    audioclip.close()\r\n"
   ],
   "outputs": [
    {
     "output_type": "stream",
     "name": "stderr",
     "text": [
      "100%|██████████| 6427/6427 [04:44<00:00, 22.38it/s]\n"
     ]
    }
   ],
   "metadata": {}
  },
  {
   "cell_type": "code",
   "execution_count": 19,
   "source": [
    "import matplotlib.pyplot as plt\r\n",
    "import numpy as np\r\n",
    "%matplotlib inline\r\n",
    "\r\n",
    "plt.hist(time_list, bins=30)\r\n",
    "plt.ylabel('Probability');\r\n",
    "print(max(time_list))\r\n",
    "print(min(time_list))"
   ],
   "outputs": [
    {
     "output_type": "stream",
     "name": "stdout",
     "text": [
      "24.03\n",
      "3.9699999999999998\n"
     ]
    },
    {
     "output_type": "display_data",
     "data": {
      "image/png": "[encoded data removed]",
      "text/plain": [
       "<matplotlib.figure.Figure at 0x7f26493fbc88>"
      ]
     },
     "metadata": {
      "needs_background": "light"
     }
    }
   ],
   "metadata": {}
  },
  {
   "cell_type": "markdown",
   "source": [
    "# Fixed number of audio chunks\r\n",
    "## Time stamp calculation\r\n",
    "0 T\r\n",
    "\r\n",
    "0     t<br>\r\n",
    "t-overlap    t-overlap+t<br>\r\n",
    "2*(t-overlap)    2*(t-overlap)+t<br>\r\n",
    ".<br>\r\n",
    ".<br>\r\n",
    ".<br>\r\n",
    "(time_stamps-1)*(t-overlap)     (time_stamps-1)*(t-overlap)+t<br>\r\n",
    "............................<br>\r\n",
    "(time_stamps-1)*(t-overlap)+t=min_length<br>\r\n",
    "\r\n",
    "min_length=3960 ms<br>\r\n",
    "overlap=50ms<br>\r\n",
    "t=100ms<br>\r\n",
    "\r\n",
    "we get time_stamps=76\r\n",
    "\r\n",
    "## Final feature dimension for variable length audio file input\r\n",
    "Each audio file is broken into 76 chunks with an overlap of 50ms.\r\n",
    "Feature Dimension -[76,1582]\r\n",
    "\r\n",
    "\r\n",
    "\r\n",
    "\r\n",
    "\r\n",
    "\r\n"
   ],
   "metadata": {}
  },
  {
   "cell_type": "code",
   "execution_count": null,
   "source": [
    "open_dir=curr+'/open_chunks'#path to save features"
   ],
   "outputs": [],
   "metadata": {}
  },
  {
   "cell_type": "code",
   "execution_count": 3,
   "source": [
    "time_stamp=Decimal(76)\r\n",
    "over_lap=Decimal(50)\r\n",
    "error_num=0\r\n",
    "for i in tqdm.tqdm(audio_list):\r\n",
    "    if(not os.path.isfile(open_dir+'/'+i[:-4]+'.npy')):\r\n",
    "        \r\n",
    "        #getting duration of audio file\r\n",
    "        org_path=audio_dir+'/'+i\r\n",
    "        audioclip = AudioFileClip(org_path)\r\n",
    "        dur=Decimal(audioclip.duration*1000.0)\r\n",
    "        audioclip.close()\r\n",
    "        #each chunk duration\r\n",
    "        sample_dur=Decimal(dur + over_lap*(time_stamp-1) )/time_stamp\r\n",
    "        step=sample_dur-over_lap\r\n",
    "        count=0\r\n",
    "        ini=Decimal(0.0)\r\n",
    "    \r\n",
    "        # features appended in a list ini<=dur-sample_dur or \r\n",
    "        opensmile_array=[]\r\n",
    "    \r\n",
    "        while(count<76):\r\n",
    "            start=float(ini/1000)\r\n",
    "            end=float((ini+sample_dur)/1000)\r\n",
    "            audioclip=AudioFileClip(org_path).subclip(start,end)\r\n",
    "#         input_path=folder_path+'/'+str(count)+'.wav'\r\n",
    "            input_path=open_dir+'/'+str(count)+'.wav'\r\n",
    "            audioclip.write_audiofile(input_path,logger =None)\r\n",
    "            audioclip.close()\r\n",
    "\r\n",
    "        \r\n",
    "            #opensmile features\r\n",
    "            csv_output_path=open_dir+'/'+str(count)+'.csv'\r\n",
    "            command=\"SMILExtract -C config/IS10_paraling.conf -I '\"+input_path+\"' -O '\"+csv_output_path+\"'\"\r\n",
    "            os.system(command)\r\n",
    "\r\n",
    "        #creating npy file from csv file \r\n",
    "            \r\n",
    "            with open(csv_output_path) as csvfile:\r\n",
    "                csv_reader=csv.reader(csvfile,delimiter=',')\r\n",
    "                cnt=1\r\n",
    "                for row in csv_reader:\r\n",
    "                    if cnt==1590:\r\n",
    "                        feat=row[1:]\r\n",
    "                        feat=feat[:-1]\r\n",
    "                    cnt+=1\r\n",
    "                np_array=np.zeros((1582))\r\n",
    "                for k in range(1582):\r\n",
    "                    np_array[k]=float(feat[k])\r\n",
    "        \r\n",
    "                if np.count_nonzero(np_array)<1000:\r\n",
    "                    print(\"zeros values problem,\",np.count_nonzero(np_array),\" sample_dur\",sample_dur)\r\n",
    "                opensmile_array.append(np_array)\r\n",
    "        \r\n",
    "            os.remove(input_path)\r\n",
    "            os.remove(csv_output_path)\r\n",
    "            ini=ini+step\r\n",
    "            count+=1\r\n",
    "        np_file_name=i[:-4]+'.npy'\r\n",
    "        if len(opensmile_array)!=time_stamp:\r\n",
    "            print(\"time dimension \",len(opensmile_array))\r\n",
    "            print(\"filename \",i[:-4])\r\n",
    "        np.save(os.path.join(open_dir,np_file_name),np.array(opensmile_array))\r\n",
    "        \r\n",
    "\r\n",
    "\r\n",
    "    \r\n",
    "    "
   ],
   "outputs": [
    {
     "output_type": "stream",
     "name": "stderr",
     "text": [
      "100%|██████████| 6427/6427 [00:00<00:00, 268756.27it/s]\n"
     ]
    }
   ],
   "metadata": {}
  },
  {
   "cell_type": "markdown",
   "source": [
    "# Fixed chunk duration -> number of chunks is variable\r\n",
    "## Final feature dimension for  variable length audio file input\r\n",
    "Each audio file is divided into chunks of 75 ms with an overlap of 30ms.\r\n",
    "Feature Dimension -[Variable,1582]"
   ],
   "metadata": {}
  },
  {
   "cell_type": "code",
   "execution_count": null,
   "source": [
    "open_dir=curr+'/open_chunks'#path to save features"
   ],
   "outputs": [],
   "metadata": {}
  },
  {
   "cell_type": "code",
   "execution_count": 6,
   "source": [
    "chunk_len=Decimal(75)# in ms\r\n",
    "over_lap=Decimal(30)# 40% of 75\r\n",
    "error_num=0\r\n",
    "min_time=10000\r\n",
    "for i in tqdm.tqdm(audio_list):\r\n",
    "    if(not os.path.isfile(open_dir+'/'+i[:-4]+'.npy')):\r\n",
    "        print(i)\r\n",
    "        #getting duration of audio file\r\n",
    "        org_path=audio_dir+'/'+i\r\n",
    "        audioclip = AudioFileClip(org_path)\r\n",
    "        dur=Decimal(audioclip.duration*1000.0)\r\n",
    "        audioclip.close()\r\n",
    "        \r\n",
    "        step=chunk_len-over_lap\r\n",
    "        ini=Decimal(0.0)\r\n",
    "        count=0\r\n",
    "        # features appended in a list ini<=dur-sample_dur or \r\n",
    "        opensmile_array=[]\r\n",
    "    \r\n",
    "        while(ini<dur-chunk_len):\r\n",
    "            start=float(ini/1000)\r\n",
    "            end=float((ini+chunk_len)/1000)\r\n",
    "            audioclip=AudioFileClip(org_path).subclip(start,end)\r\n",
    "#         input_path=folder_path+'/'+str(count)+'.wav'\r\n",
    "            input_path=open_dir+'/'+str(count)+'.wav'\r\n",
    "            audioclip.write_audiofile(input_path,logger =None)\r\n",
    "            audioclip.close()\r\n",
    "\r\n",
    "        \r\n",
    "            #opensmile features\r\n",
    "            csv_output_path=open_dir+'/'+str(count)+'.csv'\r\n",
    "            command=\"SMILExtract -C config/IS10_paraling.conf -I '\"+input_path+\"' -O '\"+csv_output_path+\"'\"\r\n",
    "            os.system(command)\r\n",
    "\r\n",
    "        #creating npy file from csv file \r\n",
    "            \r\n",
    "            with open(csv_output_path) as csvfile:\r\n",
    "                csv_reader=csv.reader(csvfile,delimiter=',')\r\n",
    "                cnt=1\r\n",
    "                for row in csv_reader:\r\n",
    "                    if cnt==1590:\r\n",
    "                        feat=row[1:]\r\n",
    "                        feat=feat[:-1]\r\n",
    "                    cnt+=1\r\n",
    "                np_array=np.zeros((1582))\r\n",
    "                for k in range(1582):\r\n",
    "                    np_array[k]=float(feat[k])\r\n",
    "        \r\n",
    "#                 if np.count_nonzero(np_array)<1000:\r\n",
    "#                     print(\"zeros values problem,\",np.count_nonzero(np_array),\" sample_dur\",sample_dur)\r\n",
    "                opensmile_array.append(np_array)\r\n",
    "        \r\n",
    "            os.remove(input_path)\r\n",
    "            os.remove(csv_output_path)\r\n",
    "            ini=ini+step\r\n",
    "            count+=1\r\n",
    "        np_file_name=i[:-4]+'.npy'\r\n",
    "        print(\"Total timestamps \")\r\n",
    "        print(len(opensmile_array))\r\n",
    "        np.save(os.path.join(open_dir,np_file_name),np.array(opensmile_array))\r\n",
    "    else:\r\n",
    "        arr=np.load(open_dir+'/'+i[:-4]+'.npy')\r\n",
    "        if np.shape(arr)[0]<min_time:\r\n",
    "            min_time= np.shape(arr)[0]\r\n",
    "print(\"min time stamps is \",min_time)\r\n",
    "\r\n",
    "\r\n",
    "    \r\n",
    "    "
   ],
   "outputs": [
    {
     "output_type": "stream",
     "name": "stderr",
     "text": [
      "100%|██████████| 6427/6427 [02:45<00:00, 38.79it/s]\n"
     ]
    },
    {
     "output_type": "error",
     "ename": "AttributeError",
     "evalue": "'str' object has no attribute 'min_time'",
     "traceback": [
      "\u001b[0;31m---------------------------------------------------------------------------\u001b[0m",
      "\u001b[0;31mAttributeError\u001b[0m                            Traceback (most recent call last)",
      "\u001b[0;32m<ipython-input-6-60578d0781ee>\u001b[0m in \u001b[0;36m<module>\u001b[0;34m\u001b[0m\n\u001b[1;32m     72\u001b[0m         \u001b[0;32mif\u001b[0m \u001b[0mnp\u001b[0m\u001b[0;34m.\u001b[0m\u001b[0mshape\u001b[0m\u001b[0;34m(\u001b[0m\u001b[0marr\u001b[0m\u001b[0;34m)\u001b[0m\u001b[0;34m[\u001b[0m\u001b[0;36m0\u001b[0m\u001b[0;34m]\u001b[0m\u001b[0;34m<\u001b[0m\u001b[0mmin_time\u001b[0m\u001b[0;34m:\u001b[0m\u001b[0;34m\u001b[0m\u001b[0m\n\u001b[1;32m     73\u001b[0m             \u001b[0mmin_time\u001b[0m\u001b[0;34m=\u001b[0m \u001b[0mnp\u001b[0m\u001b[0;34m.\u001b[0m\u001b[0mshape\u001b[0m\u001b[0;34m(\u001b[0m\u001b[0marr\u001b[0m\u001b[0;34m)\u001b[0m\u001b[0;34m[\u001b[0m\u001b[0;36m0\u001b[0m\u001b[0;34m]\u001b[0m\u001b[0;34m\u001b[0m\u001b[0m\n\u001b[0;32m---> 74\u001b[0;31m \u001b[0mprint\u001b[0m\u001b[0;34m(\u001b[0m\u001b[0;34m\"min time stamps is \"\u001b[0m\u001b[0;34m.\u001b[0m\u001b[0mmin_time\u001b[0m\u001b[0;34m)\u001b[0m\u001b[0;34m\u001b[0m\u001b[0m\n\u001b[0m\u001b[1;32m     75\u001b[0m \u001b[0;34m\u001b[0m\u001b[0m\n\u001b[1;32m     76\u001b[0m \u001b[0;34m\u001b[0m\u001b[0m\n",
      "\u001b[0;31mAttributeError\u001b[0m: 'str' object has no attribute 'min_time'"
     ]
    }
   ],
   "metadata": {}
  },
  {
   "cell_type": "code",
   "execution_count": 7,
   "source": [
    "print(\"min time stamps is \",str(min_time))"
   ],
   "outputs": [
    {
     "output_type": "stream",
     "name": "stdout",
     "text": [
      "min time stamps is  87\n"
     ]
    }
   ],
   "metadata": {}
  }
 ],
 "metadata": {
  "kernelspec": {
   "display_name": "Python 3",
   "language": "python",
   "name": "python3"
  },
  "language_info": {
   "codemirror_mode": {
    "name": "ipython",
    "version": 3
   },
   "file_extension": ".py",
   "mimetype": "text/x-python",
   "name": "python",
   "nbconvert_exporter": "python",
   "pygments_lexer": "ipython3",
   "version": "3.6.8"
  }
 },
 "nbformat": 4,
 "nbformat_minor": 2
}