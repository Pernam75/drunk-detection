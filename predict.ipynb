{
 "cells": [
  {
   "cell_type": "code",
   "execution_count": 1,
   "source": [
    "import os\r\n",
    "#import skvideo.io\r\n",
    "import tqdm\r\n",
    "import sys\r\n",
    "import numpy as np\r\n",
    "import csv\r\n",
    "import cv2\r\n",
    "import keras\r\n",
    "from keras import backend as K\r\n",
    "K.tensorflow_backend._get_available_gpus()\r\n",
    "from keras.models import Model\r\n",
    "from keras.models import load_model"
   ],
   "outputs": [
    {
     "output_type": "stream",
     "name": "stderr",
     "text": [
      "Using TensorFlow backend.\n"
     ]
    }
   ],
   "metadata": {}
  },
  {
   "cell_type": "code",
   "execution_count": 2,
   "source": [
    "#specifying path for relevant folders\r\n",
    "curr=os.getcwd()\r\n",
    "repo_path=curr.split('/code')[0]\r\n",
    "data_path=repo_path+'/DIFv2'\r\n",
    "features_path=repo_path+'/features'\r\n",
    "saved_path=repo_path+'/saved_models'"
   ],
   "outputs": [],
   "metadata": {}
  },
  {
   "cell_type": "code",
   "execution_count": 3,
   "source": [
    "#dataset length\r\n",
    "LENGTH=10\r\n",
    "FRAME_RATE=24\r\n",
    "SAMPLE_RATE=2\r\n",
    "NUM_FRAMES=int(LENGTH*FRAME_RATE/SAMPLE_RATE)\r\n",
    "data_dir=data_path+'/'+str(LENGTH)+'/frame_video'\r\n",
    "vgg_dir=features_path+'/'+str(LENGTH)+'/vgg_face'\r\n",
    "open_dir=features_path+'/'+str(LENGTH)+'/opensmile'\r\n",
    "saved_path=None"
   ],
   "outputs": [],
   "metadata": {}
  },
  {
   "cell_type": "markdown",
   "source": [
    "# train test split"
   ],
   "metadata": {}
  },
  {
   "cell_type": "code",
   "execution_count": 4,
   "source": [
    "'''\r\n",
    "Input-  csv_file\r\n",
    "Output- partition train, val test. Each partition consists of list of .npy files and dictionary of labels.\r\n",
    "'''\r\n",
    "def count_classes(d):\r\n",
    "    values=list(d.values())\r\n",
    "    zeros=values.count(0)\r\n",
    "    return (zeros,len(values)-zeros)\r\n",
    "def train_test_split(csv_path):\r\n",
    "    label={'Drunk':1, 'Sober':0}\r\n",
    "    partition={}\r\n",
    "    train={}\r\n",
    "    val={}\r\n",
    "    test={}\r\n",
    "    \r\n",
    "    train_list=[]\r\n",
    "    val_list=[]\r\n",
    "    test_list=[]\r\n",
    "    train_label={}\r\n",
    "    val_label={}\r\n",
    "    test_label={}\r\n",
    "    \r\n",
    "    with open(csv_path) as csvfile:\r\n",
    "        reader=csv.reader(csvfile,delimiter=',')\r\n",
    "        for row in reader:\r\n",
    "            filename=row[2]\r\n",
    "            filename=filename[:-4]\r\n",
    "            if row[0]=='train':\r\n",
    "                train_label[filename]=label[row[1]]\r\n",
    "                train_list.append(filename)\r\n",
    "            elif row[0]=='val':\r\n",
    "                val_label[filename]=label[row[1]]\r\n",
    "                val_list.append(filename)\r\n",
    "            elif row[0]=='test':\r\n",
    "                test_label[filename]=label[row[1]]\r\n",
    "                test_list.append(filename)\r\n",
    "            else:\r\n",
    "                print(\"Error in label\")\r\n",
    "                return None\r\n",
    "    train['list']=train_list\r\n",
    "    val['list']=val_list\r\n",
    "    test['list']=test_list\r\n",
    "    \r\n",
    "    train['label']=train_label\r\n",
    "    val['label']=val_label\r\n",
    "    test['label']=test_label\r\n",
    "    \r\n",
    "    partition['train']=train\r\n",
    "    partition['val']=val\r\n",
    "    partition['test']=test\r\n",
    "    \r\n",
    "    return partition\r\n"
   ],
   "outputs": [],
   "metadata": {}
  },
  {
   "cell_type": "code",
   "execution_count": 5,
   "source": [
    "def load_keras_model(path):\r\n",
    "    if os.path.isfile(path):\r\n",
    "        return load_model(path)"
   ],
   "outputs": [],
   "metadata": {}
  },
  {
   "cell_type": "markdown",
   "source": [
    "# vgg lstm \r\n",
    "\r\n",
    "Best model"
   ],
   "metadata": {}
  },
  {
   "cell_type": "code",
   "execution_count": 6,
   "source": [
    "model_path='/home/ubuntu/Vineet/repo/saved_models/vgg_lstm/10/hp1/model-135-0.781250.h5'\r\n",
    "model=load_keras_model(model_path)\r\n",
    "model.summary()"
   ],
   "outputs": [
    {
     "output_type": "stream",
     "name": "stdout",
     "text": [
      "_________________________________________________________________\n",
      "Layer (type)                 Output Shape              Param #   \n",
      "=================================================================\n",
      "input_3 (InputLayer)         (None, 120, 4096)         0         \n",
      "_________________________________________________________________\n",
      "batch_normalization_2 (Batch (None, 120, 4096)         16384     \n",
      "_________________________________________________________________\n",
      "lstm_2 (LSTM)                (None, 256)               4457472   \n",
      "_________________________________________________________________\n",
      "dropout_4 (Dropout)          (None, 256)               0         \n",
      "_________________________________________________________________\n",
      "dense_2 (Dense)              (None, 2)                 514       \n",
      "=================================================================\n",
      "Total params: 4,474,370\n",
      "Trainable params: 4,466,178\n",
      "Non-trainable params: 8,192\n",
      "_________________________________________________________________\n"
     ]
    }
   ],
   "metadata": {}
  },
  {
   "cell_type": "code",
   "execution_count": 7,
   "source": [
    "csv_path=repo_path+'/DIFv2/10/train_test_sets/1/split_4540_642_948.csv'\r\n",
    "partition=train_test_split(csv_path)\r\n",
    "lt =partition['test']['list']\r\n",
    "dic=partition['test']['label']\r\n",
    "count=count_classes(partition['test']['label'])\r\n",
    "print(\"Sober \",count[0],\"Drunk \",count[1])\r\n",
    "total=count[0]+count[1]\r\n",
    "\r\n",
    "lt_val =partition['val']['list']\r\n",
    "dic_val=partition['val']['label']\r\n",
    "count_val=count_classes(partition['val']['label'])\r\n",
    "print(\"Val Sober \",count_val[0],\"Drunk \",count_val[1])\r\n",
    "total_val=count_val[0]+count_val[1]\r\n"
   ],
   "outputs": [
    {
     "output_type": "stream",
     "name": "stdout",
     "text": [
      "Sober  306 Drunk  642\n",
      "Val Sober  321 Drunk  321\n"
     ]
    }
   ],
   "metadata": {}
  },
  {
   "cell_type": "code",
   "execution_count": 8,
   "source": [
    "vgg_pred={}\r\n",
    "fp=float(0)\r\n",
    "tp=float(0)\r\n",
    "fn=float(0)\r\n",
    "tn=float(0)\r\n",
    "\r\n",
    "for i in lt:\r\n",
    "    arr=np.expand_dims(np.load(vgg_dir+'/'+i+'.npy'),0)\r\n",
    "    pred=model.predict(arr)\r\n",
    "    pl=np.argmax(pred)\r\n",
    "    prob=pred[0][1]\r\n",
    "    vgg_pred[i]=prob\r\n",
    "    if dic[i]==1:\r\n",
    "        if pl==1:\r\n",
    "            tp+=1\r\n",
    "        else:\r\n",
    "            fn+=1\r\n",
    "    else:\r\n",
    "        if pl==0:\r\n",
    "            tn+=1\r\n",
    "        else:\r\n",
    "            fp+=1\r\n",
    "acc=(tp+tn)/total\r\n",
    "peci=(tp)/(tp+fp)\r\n",
    "rec=(tp)/(tp+fn)\r\n",
    "print(\"Accuracy \",acc)\r\n",
    "print(\"precision \",peci)\r\n",
    "print(\"recall \",rec)\r\n",
    "print(tp)\r\n",
    "print(tn)"
   ],
   "outputs": [
    {
     "output_type": "stream",
     "name": "stdout",
     "text": [
      "Accuracy  0.7637130801687764\n",
      "precision  0.7764550264550265\n",
      "recall  0.9143302180685359\n",
      "587.0\n",
      "137.0\n"
     ]
    }
   ],
   "metadata": {}
  },
  {
   "cell_type": "code",
   "execution_count": null,
   "source": [
    "vgg_pred_val={}\r\n",
    "fp=0\r\n",
    "tp=0\r\n",
    "fn=0\r\n",
    "tn=0\r\n",
    "\r\n",
    "for i in lt_val:\r\n",
    "    arr=np.expand_dims(np.load(vgg_dir+'/'+i+'.npy'),0)\r\n",
    "    pred=model.predict(arr)\r\n",
    "    pl=np.argmax(pred)\r\n",
    "    prob=pred[0][1]\r\n",
    "    vgg_pred_val[i]=prob\r\n",
    "    if dic_val[i]==1:\r\n",
    "        if pl==1:\r\n",
    "            tp+=1\r\n",
    "        else:\r\n",
    "            fn+=1\r\n",
    "    else:\r\n",
    "        if pl==0:\r\n",
    "            tn+=1\r\n",
    "        else:\r\n",
    "            fp+=1\r\n",
    "acc=(tp+tn)/total\r\n",
    "peci=(tp)/(tp+fp)\r\n",
    "rec=(tp)/(tp+fn)\r\n"
   ],
   "outputs": [],
   "metadata": {}
  },
  {
   "cell_type": "code",
   "execution_count": 45,
   "source": [
    "print(\"Accuracy \",acc)\r\n",
    "print(\"precision \",peci)\r\n",
    "print(\"recall \",rec)\r\n",
    "print(tp)\r\n",
    "print(tn)"
   ],
   "outputs": [
    {
     "output_type": "stream",
     "name": "stdout",
     "text": [
      "Accuracy  0.9419831223628692\n",
      "precision  1.0\n",
      "recall  0.9321824907521579\n",
      "756\n",
      "137\n"
     ]
    }
   ],
   "metadata": {}
  },
  {
   "cell_type": "markdown",
   "source": [
    "# audio "
   ],
   "metadata": {}
  },
  {
   "cell_type": "code",
   "execution_count": 9,
   "source": [
    "am_path='/home/ubuntu/Vineet/repo/saved_models/audio_open/10/hp1/model-070-0.885156.h5'\r\n",
    "amodel=load_keras_model(am_path)\r\n",
    "amodel.summary()"
   ],
   "outputs": [
    {
     "output_type": "stream",
     "name": "stdout",
     "text": [
      "_________________________________________________________________\n",
      "Layer (type)                 Output Shape              Param #   \n",
      "=================================================================\n",
      "input_2 (InputLayer)         (None, 1582)              0         \n",
      "_________________________________________________________________\n",
      "batch_normalization_2 (Batch (None, 1582)              6328      \n",
      "_________________________________________________________________\n",
      "dense_4 (Dense)              (None, 512)               810496    \n",
      "_________________________________________________________________\n",
      "dropout_2 (Dropout)          (None, 512)               0         \n",
      "_________________________________________________________________\n",
      "dense_5 (Dense)              (None, 256)               131328    \n",
      "_________________________________________________________________\n",
      "dense_6 (Dense)              (None, 2)                 514       \n",
      "=================================================================\n",
      "Total params: 948,666\n",
      "Trainable params: 945,502\n",
      "Non-trainable params: 3,164\n",
      "_________________________________________________________________\n"
     ]
    }
   ],
   "metadata": {}
  },
  {
   "cell_type": "code",
   "execution_count": 10,
   "source": [
    "audio_pred={}\r\n",
    "fp1=float(0)\r\n",
    "tp1=float(0)\r\n",
    "fn1=float(0)\r\n",
    "tn1=float(0)\r\n",
    "\r\n",
    "for i in lt:\r\n",
    "    arr=np.expand_dims(np.load(open_dir+'/'+i+'.npy'),0)\r\n",
    "    pred=amodel.predict(arr)\r\n",
    "    pl=np.argmax(pred)\r\n",
    "    prob=pred[0][1]\r\n",
    "    audio_pred[i]=prob\r\n",
    "    if dic[i]==1:\r\n",
    "        if pl==1:\r\n",
    "            tp1+=1\r\n",
    "        else:\r\n",
    "            fn1+=1\r\n",
    "    else:\r\n",
    "        if pl==0:\r\n",
    "            tn1+=1\r\n",
    "        else:\r\n",
    "            fp1+=1\r\n",
    "acc=(tp1+tn1)/total\r\n",
    "preci=(tp1)/(tp1+fp1)\r\n",
    "rec=(tp1)/(tp1+fn1)\r\n",
    "print(\"Accuracy \",acc)\r\n",
    "print(\"precision \",preci)\r\n",
    "print(\"recall \",rec)\r\n",
    "print(tp1)\r\n",
    "print(total)"
   ],
   "outputs": [
    {
     "output_type": "stream",
     "name": "stdout",
     "text": [
      "Accuracy  0.8755274261603375\n",
      "precision  0.8521505376344086\n",
      "recall  0.9875389408099688\n",
      "634.0\n",
      "948\n"
     ]
    }
   ],
   "metadata": {}
  },
  {
   "cell_type": "code",
   "execution_count": 60,
   "source": [
    "audio_pred_val={}\r\n",
    "fp1=0\r\n",
    "tp1=0\r\n",
    "fn1=0\r\n",
    "tn1=0\r\n",
    "\r\n",
    "for i in lt_val:\r\n",
    "    arr=np.expand_dims(np.load(open_dir+'/'+i+'.npy'),0)\r\n",
    "    pred=amodel.predict(arr)\r\n",
    "    pl=np.argmax(pred)\r\n",
    "    prob=pred[0][1]\r\n",
    "    audio_pred_val[i]=prob\r\n",
    "    if dic_val[i]==1:\r\n",
    "        if pl==1:\r\n",
    "            tp1+=1\r\n",
    "        else:\r\n",
    "            fn1+=1\r\n",
    "    else:\r\n",
    "        if pl==0:\r\n",
    "            tn1+=1\r\n",
    "        else:\r\n",
    "            fp1+=1\r\n",
    "acc=(tp1+tn1)/total_val\r\n",
    "preci=(tp1)/(tp1+fp1)\r\n",
    "rec=(tp1)/(tp1+fn1)\r\n",
    "print(\"Accuracy \",acc)\r\n",
    "print(\"precision \",preci)\r\n",
    "print(\"recall \",rec)"
   ],
   "outputs": [
    {
     "output_type": "stream",
     "name": "stdout",
     "text": [
      "Accuracy  0.8566978193146417\n",
      "precision  0.861198738170347\n",
      "recall  0.8504672897196262\n"
     ]
    }
   ],
   "metadata": {}
  },
  {
   "cell_type": "markdown",
   "source": [
    "# C3D"
   ],
   "metadata": {}
  },
  {
   "cell_type": "code",
   "execution_count": 11,
   "source": [
    "c3d_pred={}\r\n",
    "count=0\r\n",
    "with open('3d_pred.csv') as csvfile:\r\n",
    "    csv_reader = csv.reader(csvfile, delimiter=',')\r\n",
    "    for row in csv_reader:\r\n",
    "        fname=row[0].split('/')[3]\r\n",
    "        ID=fname[:-4]\r\n",
    "        c3d_pred[ID]=float(row[2])"
   ],
   "outputs": [],
   "metadata": {}
  },
  {
   "cell_type": "code",
   "execution_count": 12,
   "source": [
    "fp1=0\r\n",
    "tp1=0\r\n",
    "fn1=0\r\n",
    "tn1=0\r\n",
    "\r\n",
    "for i in c3d_pred:\r\n",
    "    gt=dic[i]\r\n",
    "    pl=c3d_pred[i]>.5\r\n",
    "    if gt==1:\r\n",
    "        if pl:\r\n",
    "            tp1+=1\r\n",
    "        else:\r\n",
    "            fn1+=1\r\n",
    "    else:\r\n",
    "        if not pl:\r\n",
    "            tn1+=1\r\n",
    "        else:\r\n",
    "            fp1+=1\r\n",
    "acc=(tp1+tn1)/total\r\n",
    "preci=(tp1)/(tp1+fp1)\r\n",
    "rec=(tp1)/(tp1+fn1)\r\n",
    "print(\"Accuracy \",acc)\r\n",
    "print(\"precision \",preci)\r\n",
    "print(\"recall \",rec)"
   ],
   "outputs": [
    {
     "output_type": "stream",
     "name": "stdout",
     "text": [
      "Accuracy  0.7742616033755274\n",
      "precision  0.7907608695652174\n",
      "recall  0.9065420560747663\n"
     ]
    }
   ],
   "metadata": {}
  },
  {
   "cell_type": "markdown",
   "source": [
    "# Ensmeble Scores"
   ],
   "metadata": {}
  },
  {
   "cell_type": "code",
   "execution_count": 16,
   "source": [
    "total_pred=float(87.55+76.37+77.42)\r\n",
    "wt_vg=float(76.37)/total_pred\r\n",
    "wt_a=float(87.55)/total_pred\r\n",
    "wt_3d=float(77.42)/total_pred\r\n",
    "print(wt_a)\r\n",
    "print(wt_vg)\r\n",
    "print(wt_3d)"
   ],
   "outputs": [
    {
     "output_type": "stream",
     "name": "stdout",
     "text": [
      "0.362766221927571\n",
      "0.31644153476423303\n",
      "0.3207922433081959\n"
     ]
    }
   ],
   "metadata": {}
  },
  {
   "cell_type": "code",
   "execution_count": 17,
   "source": [
    "fp1=0\r\n",
    "tp1=0\r\n",
    "fn1=0\r\n",
    "tn1=0\r\n",
    "ensem={}\r\n",
    "for i in c3d_pred:\r\n",
    "    gt=dic[i]\r\n",
    "    prob=(wt_3d*c3d_pred[i] + wt_a*audio_pred[i] + wt_vg*vgg_pred[i])\r\n",
    "    ensem[i]=prob\r\n",
    "    pl=prob>.5\r\n",
    "    if gt==1:\r\n",
    "        if pl:\r\n",
    "            tp1+=1\r\n",
    "        else:\r\n",
    "            fn1+=1\r\n",
    "    else:\r\n",
    "        if not pl:\r\n",
    "            tn1+=1\r\n",
    "        else:\r\n",
    "            fp1+=1\r\n",
    "acc=(tp1+tn1)/total\r\n",
    "preci=(tp1)/(tp1+fp1)\r\n",
    "rec=(tp1)/(tp1+fn1)\r\n",
    "print(\"Accuracy \",acc)\r\n",
    "print(\"precision \",preci)\r\n",
    "print(\"recall \",rec)\r\n",
    "print(tp1)\r\n",
    "print(tn1)\r\n",
    "print(total)"
   ],
   "outputs": [
    {
     "output_type": "stream",
     "name": "stdout",
     "text": [
      "Accuracy  0.8839662447257384\n",
      "precision  0.8594594594594595\n",
      "recall  0.9906542056074766\n",
      "636\n",
      "202\n",
      "948\n"
     ]
    }
   ],
   "metadata": {}
  },
  {
   "cell_type": "markdown",
   "source": [
    "## prediction observations \r\n",
    "Case 1: Wrong prediction by audio and right predicitons by video"
   ],
   "metadata": {}
  },
  {
   "cell_type": "code",
   "execution_count": 20,
   "source": [
    "for i in c3d_pred:\r\n",
    "    if c3d_pred[i]<=.5 and vgg_pred[i]<=.5 and audio_pred[i]>=.5 and dic[i]==1 and ensem[i]>=.5:\r\n",
    "        print(i)"
   ],
   "outputs": [
    {
     "output_type": "stream",
     "name": "stdout",
     "text": [
      "videoplayback (26).mp4_14_59.mp4_aligned_3\n",
      "videoplayback (26).mp4_20_104.mp4_aligned_1\n",
      "videoplayback (27).mp4_26_98.mp4_aligned_1\n",
      "videoplayback (27).mp4_36_148.mp4_aligned_1\n",
      "videoplayback (36).mp4_23_4.mp4_aligned_2\n"
     ]
    }
   ],
   "metadata": {
    "scrolled": true
   }
  },
  {
   "cell_type": "code",
   "execution_count": 21,
   "source": [
    "for i in c3d_pred:\r\n",
    "    if c3d_pred[i]>=.5 and vgg_pred[i]>=.5 and audio_pred[i]<=.5 and dic[i]==0 and ensem[i]<=.5:\r\n",
    "        print(i)"
   ],
   "outputs": [
    {
     "output_type": "stream",
     "name": "stdout",
     "text": [
      "Mark Zuckerberg- “I’m really sorry that this happened” - YouTube.MKV_18_33.mp4_aligned_1\n",
      "Mark Zuckerberg- “I’m really sorry that this happened” - YouTube.MKV_27_49.mp4_aligned_4\n",
      "Mark Zuckerberg- “I’m really sorry that this happened” - YouTube.MKV_27_49.mp4_aligned_7\n",
      "Mark Zuckerberg- “I’m really sorry that this happened” - YouTube.MKV_27_49.mp4_aligned_8\n",
      "Mark Zuckerberg- “I’m really sorry that this happened” - YouTube.MKV_37_72.mp4_aligned_3\n",
      "What is your greatest weakness- - YouTube.MKV_1_1.mp4_aligned_44\n"
     ]
    }
   ],
   "metadata": {}
  }
 ],
 "metadata": {
  "kernelspec": {
   "display_name": "Python 3",
   "language": "python",
   "name": "python3"
  },
  "language_info": {
   "codemirror_mode": {
    "name": "ipython",
    "version": 3
   },
   "file_extension": ".py",
   "mimetype": "text/x-python",
   "name": "python",
   "nbconvert_exporter": "python",
   "pygments_lexer": "ipython3",
   "version": "3.6.8"
  }
 },
 "nbformat": 4,
 "nbformat_minor": 2
}