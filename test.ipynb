{
 "cells": [
  {
   "cell_type": "code",
   "execution_count": 1,
   "metadata": {},
   "outputs": [
    {
     "name": "stderr",
     "output_type": "stream",
     "text": [
      "Using TensorFlow backend.\n"
     ]
    }
   ],
   "source": [
    "import os\n",
    "#import skvideo.io\n",
    "import tqdm\n",
    "import sys\n",
    "import numpy as np\n",
    "import csv\n",
    "import cv2\n",
    "import keras\n",
    "from keras import backend as K\n",
    "K.tensorflow_backend._get_available_gpus()\n",
    "from keras.models import Model\n",
    "from keras.models import load_model"
   ]
  },
  {
   "cell_type": "code",
   "execution_count": 2,
   "metadata": {},
   "outputs": [],
   "source": [
    "#specifying path for relevant folders\n",
    "# USER INPUT- data_dir and features_dir.\n",
    "# data_dir- path to frame videos. Required only for feature extraction\n",
    "# features_dir- Path to directory containing features vgg, opensmile, open_chunks\n",
    "curr=os.getcwd()\n",
    "repo_path=curr.split('/code')[0]\n",
    "data_dir=repo_path+'/DIFv2'+'/'+str(LENGTH)+'/frame_video'\n",
    "features_path=repo_path+'/features'"
   ]
  },
  {
   "cell_type": "code",
   "execution_count": 3,
   "metadata": {},
   "outputs": [],
   "source": [
    "#dataset length\n",
    "LENGTH=10\n",
    "FRAME_RATE=24\n",
    "SAMPLE_RATE=2\n",
    "NUM_FRAMES=int(LENGTH*FRAME_RATE/SAMPLE_RATE)\n",
    "\n",
    "vgg_dir=features_path+'/'+str(LENGTH)+'/vgg_face' # USER INPUT Path to saved vgg face features\n",
    "open_dir=features_path+'/'+str(LENGTH)+'/opensmile' # USER INPUT Path to saved opensmile features"
   ]
  },
  {
   "cell_type": "markdown",
   "metadata": {},
   "source": [
    "# train test split"
   ]
  },
  {
   "cell_type": "code",
   "execution_count": 4,
   "metadata": {},
   "outputs": [],
   "source": [
    "'''\n",
    "Input-  csv_file\n",
    "Output- partition train, val test. Each partition consists of list of .npy files and dictionary of labels.\n",
    "'''\n",
    "def count_classes(d):\n",
    "    values=list(d.values())\n",
    "    zeros=values.count(0)\n",
    "    return (zeros,len(values)-zeros)\n",
    "def train_test_split(csv_path):\n",
    "    label={'Drunk':1, 'Sober':0}\n",
    "    partition={}\n",
    "    train={}\n",
    "    val={}\n",
    "    test={}\n",
    "    \n",
    "    train_list=[]\n",
    "    val_list=[]\n",
    "    test_list=[]\n",
    "    train_label={}\n",
    "    val_label={}\n",
    "    test_label={}\n",
    "    \n",
    "    with open(csv_path) as csvfile:\n",
    "        reader=csv.reader(csvfile,delimiter=',')\n",
    "        for row in reader:\n",
    "            filename=row[2]\n",
    "            filename=filename[:-4]\n",
    "            if row[0]=='train':\n",
    "                train_label[filename]=label[row[1]]\n",
    "                train_list.append(filename)\n",
    "            elif row[0]=='val':\n",
    "                val_label[filename]=label[row[1]]\n",
    "                val_list.append(filename)\n",
    "            elif row[0]=='test':\n",
    "                test_label[filename]=label[row[1]]\n",
    "                test_list.append(filename)\n",
    "            else:\n",
    "                print(\"Error in label\")\n",
    "                return None\n",
    "    train['list']=train_list\n",
    "    val['list']=val_list\n",
    "    test['list']=test_list\n",
    "    \n",
    "    train['label']=train_label\n",
    "    val['label']=val_label\n",
    "    test['label']=test_label\n",
    "    \n",
    "    partition['train']=train\n",
    "    partition['val']=val\n",
    "    partition['test']=test\n",
    "    \n",
    "    return partition\n"
   ]
  },
  {
   "cell_type": "code",
   "execution_count": 5,
   "metadata": {},
   "outputs": [],
   "source": [
    "def load_keras_model(path):\n",
    "    if os.path.isfile(path):\n",
    "        return load_model(path)"
   ]
  },
  {
   "cell_type": "markdown",
   "metadata": {},
   "source": [
    "# vgg lstm \n",
    "\n",
    "Best model"
   ]
  },
  {
   "cell_type": "code",
   "execution_count": 6,
   "metadata": {},
   "outputs": [
    {
     "name": "stdout",
     "output_type": "stream",
     "text": [
      "_________________________________________________________________\n",
      "Layer (type)                 Output Shape              Param #   \n",
      "=================================================================\n",
      "input_3 (InputLayer)         (None, 120, 4096)         0         \n",
      "_________________________________________________________________\n",
      "batch_normalization_2 (Batch (None, 120, 4096)         16384     \n",
      "_________________________________________________________________\n",
      "lstm_2 (LSTM)                (None, 256)               4457472   \n",
      "_________________________________________________________________\n",
      "dropout_4 (Dropout)          (None, 256)               0         \n",
      "_________________________________________________________________\n",
      "dense_2 (Dense)              (None, 2)                 514       \n",
      "=================================================================\n",
      "Total params: 4,474,370\n",
      "Trainable params: 4,466,178\n",
      "Non-trainable params: 8,192\n",
      "_________________________________________________________________\n"
     ]
    }
   ],
   "source": [
    "#USER INPUT Path to trained VGG model\n",
    "model_path='/home/ubuntu/Vineet/repo/saved_models/vgg_lstm/10/hp1/model-135-0.781250.h5'\n",
    "model=load_keras_model(model_path)\n",
    "model.summary()"
   ]
  },
  {
   "cell_type": "code",
   "execution_count": 7,
   "metadata": {},
   "outputs": [
    {
     "name": "stdout",
     "output_type": "stream",
     "text": [
      "Sober  306 Drunk  642\n",
      "Val Sober  321 Drunk  321\n"
     ]
    }
   ],
   "source": [
    "#USER INPUT\n",
    "csv_path=repo_path+'/DIFv2/10/train_test_sets/1/split_4540_642_948.csv'# or enter path to the split.csv in the parent directory \n",
    "partition=train_test_split(csv_path)\n",
    "lt =partition['test']['list']\n",
    "dic=partition['test']['label']\n",
    "count=count_classes(partition['test']['label'])\n",
    "print(\"Sober \",count[0],\"Drunk \",count[1])\n",
    "total=count[0]+count[1]\n",
    "\n",
    "lt_val =partition['val']['list']\n",
    "dic_val=partition['val']['label']\n",
    "count_val=count_classes(partition['val']['label'])\n",
    "print(\"Val Sober \",count_val[0],\"Drunk \",count_val[1])\n",
    "total_val=count_val[0]+count_val[1]\n"
   ]
  },
  {
   "cell_type": "code",
   "execution_count": 8,
   "metadata": {},
   "outputs": [
    {
     "name": "stdout",
     "output_type": "stream",
     "text": [
      "Accuracy  0.7637130801687764\n",
      "precision  0.7764550264550265\n",
      "recall  0.9143302180685359\n",
      "587.0\n",
      "137.0\n"
     ]
    }
   ],
   "source": [
    "vgg_pred={}\n",
    "fp=float(0)\n",
    "tp=float(0)\n",
    "fn=float(0)\n",
    "tn=float(0)\n",
    "\n",
    "for i in lt:\n",
    "    arr=np.expand_dims(np.load(vgg_dir+'/'+i+'.npy'),0)\n",
    "    pred=model.predict(arr)\n",
    "    pl=np.argmax(pred)\n",
    "    prob=pred[0][1]\n",
    "    vgg_pred[i]=prob\n",
    "    if dic[i]==1:\n",
    "        if pl==1:\n",
    "            tp+=1\n",
    "        else:\n",
    "            fn+=1\n",
    "    else:\n",
    "        if pl==0:\n",
    "            tn+=1\n",
    "        else:\n",
    "            fp+=1\n",
    "acc=(tp+tn)/total\n",
    "peci=(tp)/(tp+fp)\n",
    "rec=(tp)/(tp+fn)\n",
    "print(\"Accuracy \",acc)\n",
    "print(\"precision \",peci)\n",
    "print(\"recall \",rec)\n",
    "print(tp)\n",
    "print(tn)"
   ]
  },
  {
   "cell_type": "code",
   "execution_count": null,
   "metadata": {},
   "outputs": [],
   "source": [
    "vgg_pred_val={}\n",
    "fp=0\n",
    "tp=0\n",
    "fn=0\n",
    "tn=0\n",
    "\n",
    "for i in lt_val:\n",
    "    arr=np.expand_dims(np.load(vgg_dir+'/'+i+'.npy'),0)\n",
    "    pred=model.predict(arr)\n",
    "    pl=np.argmax(pred)\n",
    "    prob=pred[0][1]\n",
    "    vgg_pred_val[i]=prob\n",
    "    if dic_val[i]==1:\n",
    "        if pl==1:\n",
    "            tp+=1\n",
    "        else:\n",
    "            fn+=1\n",
    "    else:\n",
    "        if pl==0:\n",
    "            tn+=1\n",
    "        else:\n",
    "            fp+=1\n",
    "acc=(tp+tn)/total\n",
    "peci=(tp)/(tp+fp)\n",
    "rec=(tp)/(tp+fn)\n"
   ]
  },
  {
   "cell_type": "code",
   "execution_count": 45,
   "metadata": {},
   "outputs": [
    {
     "name": "stdout",
     "output_type": "stream",
     "text": [
      "Accuracy  0.9419831223628692\n",
      "precision  1.0\n",
      "recall  0.9321824907521579\n",
      "756\n",
      "137\n"
     ]
    }
   ],
   "source": [
    "print(\"Accuracy \",acc)\n",
    "print(\"precision \",peci)\n",
    "print(\"recall \",rec)\n",
    "print(tp)\n",
    "print(tn)"
   ]
  },
  {
   "cell_type": "markdown",
   "metadata": {},
   "source": [
    "# audio "
   ]
  },
  {
   "cell_type": "code",
   "execution_count": 9,
   "metadata": {},
   "outputs": [
    {
     "name": "stdout",
     "output_type": "stream",
     "text": [
      "_________________________________________________________________\n",
      "Layer (type)                 Output Shape              Param #   \n",
      "=================================================================\n",
      "input_2 (InputLayer)         (None, 1582)              0         \n",
      "_________________________________________________________________\n",
      "batch_normalization_2 (Batch (None, 1582)              6328      \n",
      "_________________________________________________________________\n",
      "dense_4 (Dense)              (None, 512)               810496    \n",
      "_________________________________________________________________\n",
      "dropout_2 (Dropout)          (None, 512)               0         \n",
      "_________________________________________________________________\n",
      "dense_5 (Dense)              (None, 256)               131328    \n",
      "_________________________________________________________________\n",
      "dense_6 (Dense)              (None, 2)                 514       \n",
      "=================================================================\n",
      "Total params: 948,666\n",
      "Trainable params: 945,502\n",
      "Non-trainable params: 3,164\n",
      "_________________________________________________________________\n"
     ]
    }
   ],
   "source": [
    "#USER INPUT Path to trained audio model. In this we used \n",
    "am_path='/home/ubuntu/Vineet/repo/saved_models/audio_open/10/hp1/model-070-0.885156.h5'\n",
    "amodel=load_keras_model(am_path)\n",
    "amodel.summary()"
   ]
  },
  {
   "cell_type": "code",
   "execution_count": 10,
   "metadata": {},
   "outputs": [
    {
     "name": "stdout",
     "output_type": "stream",
     "text": [
      "Accuracy  0.8755274261603375\n",
      "precision  0.8521505376344086\n",
      "recall  0.9875389408099688\n",
      "634.0\n",
      "948\n"
     ]
    }
   ],
   "source": [
    "audio_pred={}\n",
    "fp1=float(0)\n",
    "tp1=float(0)\n",
    "fn1=float(0)\n",
    "tn1=float(0)\n",
    "\n",
    "for i in lt:\n",
    "    arr=np.expand_dims(np.load(open_dir+'/'+i+'.npy'),0)\n",
    "    pred=amodel.predict(arr)\n",
    "    pl=np.argmax(pred)\n",
    "    prob=pred[0][1]\n",
    "    audio_pred[i]=prob\n",
    "    if dic[i]==1:\n",
    "        if pl==1:\n",
    "            tp1+=1\n",
    "        else:\n",
    "            fn1+=1\n",
    "    else:\n",
    "        if pl==0:\n",
    "            tn1+=1\n",
    "        else:\n",
    "            fp1+=1\n",
    "acc=(tp1+tn1)/total\n",
    "preci=(tp1)/(tp1+fp1)\n",
    "rec=(tp1)/(tp1+fn1)\n",
    "print(\"Accuracy \",acc)\n",
    "print(\"precision \",preci)\n",
    "print(\"recall \",rec)\n",
    "print(tp1)\n",
    "print(total)"
   ]
  },
  {
   "cell_type": "code",
   "execution_count": 60,
   "metadata": {},
   "outputs": [
    {
     "name": "stdout",
     "output_type": "stream",
     "text": [
      "Accuracy  0.8566978193146417\n",
      "precision  0.861198738170347\n",
      "recall  0.8504672897196262\n"
     ]
    }
   ],
   "source": [
    "audio_pred_val={}\n",
    "fp1=0\n",
    "tp1=0\n",
    "fn1=0\n",
    "tn1=0\n",
    "\n",
    "for i in lt_val:\n",
    "    arr=np.expand_dims(np.load(open_dir+'/'+i+'.npy'),0)\n",
    "    pred=amodel.predict(arr)\n",
    "    pl=np.argmax(pred)\n",
    "    prob=pred[0][1]\n",
    "    audio_pred_val[i]=prob\n",
    "    if dic_val[i]==1:\n",
    "        if pl==1:\n",
    "            tp1+=1\n",
    "        else:\n",
    "            fn1+=1\n",
    "    else:\n",
    "        if pl==0:\n",
    "            tn1+=1\n",
    "        else:\n",
    "            fp1+=1\n",
    "acc=(tp1+tn1)/total_val\n",
    "preci=(tp1)/(tp1+fp1)\n",
    "rec=(tp1)/(tp1+fn1)\n",
    "print(\"Accuracy \",acc)\n",
    "print(\"precision \",preci)\n",
    "print(\"recall \",rec)"
   ]
  },
  {
   "cell_type": "markdown",
   "metadata": {},
   "source": [
    "# C3D"
   ]
  },
  {
   "cell_type": "code",
   "execution_count": 11,
   "metadata": {},
   "outputs": [],
   "source": [
    "c3d_pred={}\n",
    "count=0\n",
    "# Loading C3D preditions for each video. C3D was implemented in pytorch and the predictions are stored in csv file\n",
    "# USER INPUT\n",
    "c3d_pred_path = './3d_pred.csv'\n",
    "with open(c3d_pred_path) as csvfile:\n",
    "    csv_reader = csv.reader(csvfile, delimiter=',')\n",
    "    for row in csv_reader:\n",
    "        fname=row[0].split('/')[3]\n",
    "        ID=fname[:-4]\n",
    "        c3d_pred[ID]=float(row[2])"
   ]
  },
  {
   "cell_type": "code",
   "execution_count": 12,
   "metadata": {},
   "outputs": [
    {
     "name": "stdout",
     "output_type": "stream",
     "text": [
      "Accuracy  0.7742616033755274\n",
      "precision  0.7907608695652174\n",
      "recall  0.9065420560747663\n"
     ]
    }
   ],
   "source": [
    "fp1=0\n",
    "tp1=0\n",
    "fn1=0\n",
    "tn1=0\n",
    "\n",
    "for i in c3d_pred:\n",
    "    gt=dic[i]\n",
    "    pl=c3d_pred[i]>.5\n",
    "    if gt==1:\n",
    "        if pl:\n",
    "            tp1+=1\n",
    "        else:\n",
    "            fn1+=1\n",
    "    else:\n",
    "        if not pl:\n",
    "            tn1+=1\n",
    "        else:\n",
    "            fp1+=1\n",
    "acc=(tp1+tn1)/total\n",
    "preci=(tp1)/(tp1+fp1)\n",
    "rec=(tp1)/(tp1+fn1)\n",
    "print(\"Accuracy \",acc)\n",
    "print(\"precision \",preci)\n",
    "print(\"recall \",rec)"
   ]
  },
  {
   "cell_type": "markdown",
   "metadata": {},
   "source": [
    "# Ensmeble Scores"
   ]
  },
  {
   "cell_type": "code",
   "execution_count": 16,
   "metadata": {},
   "outputs": [
    {
     "name": "stdout",
     "output_type": "stream",
     "text": [
      "0.362766221927571\n",
      "0.31644153476423303\n",
      "0.3207922433081959\n"
     ]
    }
   ],
   "source": [
    "total_pred=float(87.55+76.37+77.42)\n",
    "wt_vg=float(76.37)/total_pred\n",
    "wt_a=float(87.55)/total_pred\n",
    "wt_3d=float(77.42)/total_pred\n",
    "print(wt_a)\n",
    "print(wt_vg)\n",
    "print(wt_3d)"
   ]
  },
  {
   "cell_type": "code",
   "execution_count": 17,
   "metadata": {},
   "outputs": [
    {
     "name": "stdout",
     "output_type": "stream",
     "text": [
      "Accuracy  0.8839662447257384\n",
      "precision  0.8594594594594595\n",
      "recall  0.9906542056074766\n",
      "636\n",
      "202\n",
      "948\n"
     ]
    }
   ],
   "source": [
    "fp1=0\n",
    "tp1=0\n",
    "fn1=0\n",
    "tn1=0\n",
    "ensem={}\n",
    "for i in c3d_pred:\n",
    "    gt=dic[i]\n",
    "    prob=(wt_3d*c3d_pred[i] + wt_a*audio_pred[i] + wt_vg*vgg_pred[i])\n",
    "    ensem[i]=prob\n",
    "    pl=prob>.5\n",
    "    if gt==1:\n",
    "        if pl:\n",
    "            tp1+=1\n",
    "        else:\n",
    "            fn1+=1\n",
    "    else:\n",
    "        if not pl:\n",
    "            tn1+=1\n",
    "        else:\n",
    "            fp1+=1\n",
    "acc=(tp1+tn1)/total\n",
    "preci=(tp1)/(tp1+fp1)\n",
    "rec=(tp1)/(tp1+fn1)\n",
    "print(\"Accuracy \",acc)\n",
    "print(\"precision \",preci)\n",
    "print(\"recall \",rec)\n",
    "print(tp1)\n",
    "print(tn1)\n",
    "print(total)"
   ]
  },
  {
   "cell_type": "markdown",
   "metadata": {},
   "source": [
    "## prediction observations \n",
    "Case 1: Wrong prediction by audio and right predicitons by video"
   ]
  },
  {
   "cell_type": "code",
   "execution_count": 20,
   "metadata": {
    "scrolled": true
   },
   "outputs": [
    {
     "name": "stdout",
     "output_type": "stream",
     "text": [
      "videoplayback (26).mp4_14_59.mp4_aligned_3\n",
      "videoplayback (26).mp4_20_104.mp4_aligned_1\n",
      "videoplayback (27).mp4_26_98.mp4_aligned_1\n",
      "videoplayback (27).mp4_36_148.mp4_aligned_1\n",
      "videoplayback (36).mp4_23_4.mp4_aligned_2\n"
     ]
    }
   ],
   "source": [
    "for i in c3d_pred:\n",
    "    if c3d_pred[i]<=.5 and vgg_pred[i]<=.5 and audio_pred[i]>=.5 and dic[i]==1 and ensem[i]>=.5:\n",
    "        print(i)"
   ]
  },
  {
   "cell_type": "code",
   "execution_count": 21,
   "metadata": {},
   "outputs": [
    {
     "name": "stdout",
     "output_type": "stream",
     "text": [
      "Mark Zuckerberg- “I’m really sorry that this happened” - YouTube.MKV_18_33.mp4_aligned_1\n",
      "Mark Zuckerberg- “I’m really sorry that this happened” - YouTube.MKV_27_49.mp4_aligned_4\n",
      "Mark Zuckerberg- “I’m really sorry that this happened” - YouTube.MKV_27_49.mp4_aligned_7\n",
      "Mark Zuckerberg- “I’m really sorry that this happened” - YouTube.MKV_27_49.mp4_aligned_8\n",
      "Mark Zuckerberg- “I’m really sorry that this happened” - YouTube.MKV_37_72.mp4_aligned_3\n",
      "What is your greatest weakness- - YouTube.MKV_1_1.mp4_aligned_44\n"
     ]
    }
   ],
   "source": [
    "for i in c3d_pred:\n",
    "    if c3d_pred[i]>=.5 and vgg_pred[i]>=.5 and audio_pred[i]<=.5 and dic[i]==0 and ensem[i]<=.5:\n",
    "        print(i)"
   ]
  }
 ],
 "metadata": {
  "kernelspec": {
   "display_name": "Python 3",
   "language": "python",
   "name": "python3"
  },
  "language_info": {
   "codemirror_mode": {
    "name": "ipython",
    "version": 3
   },
   "file_extension": ".py",
   "mimetype": "text/x-python",
   "name": "python",
   "nbconvert_exporter": "python",
   "pygments_lexer": "ipython3",
   "version": "3.6.8"
  }
 },
 "nbformat": 4,
 "nbformat_minor": 2
}
